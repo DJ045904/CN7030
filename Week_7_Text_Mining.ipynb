{
  "nbformat": 4,
  "nbformat_minor": 0,
  "metadata": {
    "colab": {
      "provenance": []
    },
    "kernelspec": {
      "name": "python3",
      "display_name": "Python 3"
    },
    "language_info": {
      "name": "python"
    }
  },
  "cells": [
    {
      "cell_type": "code",
      "execution_count": 1,
      "metadata": {
        "colab": {
          "base_uri": "https://localhost:8080/"
        },
        "id": "QIWPLS-Jzr6N",
        "outputId": "7452050b-8377-48d4-a852-27c5ad159855"
      },
      "outputs": [
        {
          "output_type": "stream",
          "name": "stdout",
          "text": [
            "Requirement already satisfied: pyspark in /usr/local/lib/python3.11/dist-packages (3.5.1)\n",
            "Requirement already satisfied: py4j==0.10.9.7 in /usr/local/lib/python3.11/dist-packages (from pyspark) (0.10.9.7)\n"
          ]
        }
      ],
      "source": [
        "!pip install pyspark"
      ]
    },
    {
      "cell_type": "code",
      "source": [
        "!pip install pyspark nltk"
      ],
      "metadata": {
        "colab": {
          "base_uri": "https://localhost:8080/"
        },
        "id": "IDers4bG4mNu",
        "outputId": "5c6d97ab-b91b-47c7-855f-2e6946403648"
      },
      "execution_count": 2,
      "outputs": [
        {
          "output_type": "stream",
          "name": "stdout",
          "text": [
            "Requirement already satisfied: pyspark in /usr/local/lib/python3.11/dist-packages (3.5.1)\n",
            "Requirement already satisfied: nltk in /usr/local/lib/python3.11/dist-packages (3.9.1)\n",
            "Requirement already satisfied: py4j==0.10.9.7 in /usr/local/lib/python3.11/dist-packages (from pyspark) (0.10.9.7)\n",
            "Requirement already satisfied: click in /usr/local/lib/python3.11/dist-packages (from nltk) (8.2.1)\n",
            "Requirement already satisfied: joblib in /usr/local/lib/python3.11/dist-packages (from nltk) (1.5.1)\n",
            "Requirement already satisfied: regex>=2021.8.3 in /usr/local/lib/python3.11/dist-packages (from nltk) (2024.11.6)\n",
            "Requirement already satisfied: tqdm in /usr/local/lib/python3.11/dist-packages (from nltk) (4.67.1)\n"
          ]
        }
      ]
    },
    {
      "cell_type": "code",
      "source": [
        "import nltk\n",
        "nltk.download('wordnet')\n",
        "nltk.download('omw-1.4')\n"
      ],
      "metadata": {
        "colab": {
          "base_uri": "https://localhost:8080/"
        },
        "id": "70IeEqeJ4v2W",
        "outputId": "998145db-aeaf-49eb-b153-8d15cda4e0d5"
      },
      "execution_count": 3,
      "outputs": [
        {
          "output_type": "stream",
          "name": "stderr",
          "text": [
            "[nltk_data] Downloading package wordnet to /root/nltk_data...\n",
            "[nltk_data] Downloading package omw-1.4 to /root/nltk_data...\n"
          ]
        },
        {
          "output_type": "execute_result",
          "data": {
            "text/plain": [
              "True"
            ]
          },
          "metadata": {},
          "execution_count": 3
        }
      ]
    },
    {
      "cell_type": "code",
      "source": [
        "# Import necessary PySpark modules\n",
        "from pyspark.sql import SparkSession\n",
        "from pyspark.sql.functions import col\n",
        "from pyspark.ml.feature import Tokenizer, StopWordsRemover, HashingTF, IDF\n",
        "from pyspark.ml.classification import LogisticRegression\n",
        "from pyspark.ml import Pipeline\n",
        "from pyspark.ml.feature import StringIndexer\n",
        "from pyspark.ml.evaluation import MulticlassClassificationEvaluator"
      ],
      "metadata": {
        "id": "mEemur2R5EC-"
      },
      "execution_count": 4,
      "outputs": []
    },
    {
      "cell_type": "code",
      "source": [
        "#Import NLP Libraries for Stemming & Lemmatization\n",
        "from pyspark.sql.functions import udf\n",
        "from pyspark.sql.types import ArrayType, StringType\n",
        "from nltk.stem import PorterStemmer, WordNetLemmatizer"
      ],
      "metadata": {
        "id": "KvbNfZd15I3N"
      },
      "execution_count": 5,
      "outputs": []
    },
    {
      "cell_type": "code",
      "source": [
        "#Define UDFs for Stemming & Lemmatization\n",
        "# Initialize Stemmer and Lemmatizer\n",
        "stemmer = PorterStemmer()\n",
        "lemmatizer = WordNetLemmatizer()\n",
        "\n",
        "# Define UDF for Stemming\n",
        "def stem_words(words):\n",
        "    return [stemmer.stem(word) for word in words]\n",
        "\n",
        "# Define UDF for Lemmatization\n",
        "def lemmatize_words(words):\n",
        "    return [lemmatizer.lemmatize(word) for word in words]\n",
        "\n",
        "# Convert Python functions to PySpark UDFs\n",
        "stem_udf = udf(stem_words, ArrayType(StringType()))\n",
        "lemma_udf = udf(lemmatize_words, ArrayType(StringType()))"
      ],
      "metadata": {
        "id": "r2YLfHTr5MsG"
      },
      "execution_count": 6,
      "outputs": []
    },
    {
      "cell_type": "code",
      "source": [
        "# Create a Spark session\n",
        "spark = SparkSession.builder.appName(\"DocumentClassificationTFIDF\").getOrCreate()"
      ],
      "metadata": {
        "id": "bu8jqu_s5PzN"
      },
      "execution_count": 7,
      "outputs": []
    },
    {
      "cell_type": "code",
      "source": [
        "# Load & Preprocess Data (Tokenization, Stopword Removal, Stemming, Lemmatization)\n",
        "# Sample dataset\n",
        "data = [(0,\"Cloud computing is becoming increasingly important for businesses\",\"Technology\"),\n",
        " (1, \"Basketball players are preparing for the next tournament\", \"Sports\"),\n",
        " (2,\"Machine learning has revolutionized the way data is processed\",\"Technology\"),\n",
        " (3, \"Political campaigns are gearing up for the upcoming elections\",\"Politics\"),\n",
        " (4, \"The football team has been training hard for the upcoming season\", \"Sports\"),\n",
        " (5,\"International relations are being discussed in diplomatic meetings\",\"Politics\"),\n",
        " (6, \"The president addressed the nation in a live broadcast\", \"Politics\"),\n",
        " (7, \"Tennis players are practicing for the grand slam matches\", \"Sports\"),\n",
        " (8,\"Machine learning has revolutionized the way data is processed\",\"Technology\"),\n",
        " (9, \"Stock trading has become a popular way to build wealth\", \"Finance\"),\n",
        " (10, \"5G technology is expected to significantly improve communication speeds\",\"Technology\"),\n",
        " (11,\"Political campaigns are gearing up for the upcoming elections\",\"Politics\"),\n",
        " (12,\n",
        "  \"Machine learning has revolutionized the way data is processed\",\n",
        "  \"Technology\"),\n",
        " (13,\n",
        "  \"Investors are looking for high-yield bonds in the current market\",\n",
        "  \"Finance\"),\n",
        " (14,\n",
        "  \"Quantum computing holds promise for solving complex problems\",\n",
        "  \"Technology\"),\n",
        " (15,\n",
        "  \"Cloud computing is becoming increasingly important for businesses\",\n",
        "  \"Technology\"),\n",
        " (16, \"The Formula 1 race track is set to host the next grand prix\", \"Sports\"),\n",
        " (17,\n",
        "  \"Financial experts are advising on diversifying investment portfolios\",\n",
        "  \"Finance\"),\n",
        " (18, \"Stock trading has become a popular way to build wealth\", \"Finance\"),\n",
        " (19, \"Stock trading has become a popular way to build wealth\", \"Finance\"),\n",
        " (20,\n",
        "  \"International relations are being discussed in diplomatic meetings\",\n",
        "  \"Politics\"),\n",
        " (21, \"The Formula 1 race track is set to host the next grand prix\", \"Sports\"),\n",
        " (22,\n",
        "  \"Political campaigns are gearing up for the upcoming elections\",\n",
        "  \"Politics\"),\n",
        " (23,\n",
        "  \"Machine learning has revolutionized the way data is processed\",\n",
        "  \"Technology\"),\n",
        " (24,\n",
        "  \"The football team has been training hard for the upcoming season\",\n",
        "  \"Sports\"),\n",
        " (25, \"Tennis players are practicing for the grand slam matches\", \"Sports\"),\n",
        " (26, \"Tennis players are practicing for the grand slam matches\", \"Sports\"),\n",
        " (27,\n",
        "  \"Political campaigns are gearing up for the upcoming elections\",\n",
        "  \"Politics\"),\n",
        " (28,\n",
        "  \"The real estate market has seen significant growth in the past decade\",\n",
        "  \"Finance\"),\n",
        " (29,\n",
        "  \"Financial experts are advising on diversifying investment portfolios\",\n",
        "  \"Finance\")]\n",
        "df = spark.createDataFrame(data, [\"id\", \"text\", \"category\"])\n",
        "\n",
        "# Tokenization\n",
        "tokenizer = Tokenizer(inputCol=\"text\", outputCol=\"words\")\n",
        "df = tokenizer.transform(df)\n",
        "\n",
        "# Stopword Removal\n",
        "remover = StopWordsRemover(inputCol=\"words\", outputCol=\"filtered_words\")\n",
        "df = remover.transform(df)\n",
        "\n",
        "# Apply Stemming\n",
        "df = df.withColumn(\"stemmed_words\", stem_udf(col(\"filtered_words\")))\n",
        "\n",
        "# Apply Lemmatization\n",
        "df = df.withColumn(\"lemmatized_words\", lemma_udf(col(\"filtered_words\")))\n",
        "\n",
        "# Show Results\n",
        "df.select(\"text\", \"filtered_words\", \"stemmed_words\", \"lemmatized_words\").show(truncate=False)"
      ],
      "metadata": {
        "colab": {
          "base_uri": "https://localhost:8080/"
        },
        "id": "Kwaq52F15WnV",
        "outputId": "4c05f8c3-2d7d-4b8c-f026-6f635d00c59f"
      },
      "execution_count": 8,
      "outputs": [
        {
          "output_type": "stream",
          "name": "stdout",
          "text": [
            "+-----------------------------------------------------------------------+-------------------------------------------------------------------------+-------------------------------------------------------------+------------------------------------------------------------------------+\n",
            "|text                                                                   |filtered_words                                                           |stemmed_words                                                |lemmatized_words                                                        |\n",
            "+-----------------------------------------------------------------------+-------------------------------------------------------------------------+-------------------------------------------------------------+------------------------------------------------------------------------+\n",
            "|Cloud computing is becoming increasingly important for businesses      |[cloud, computing, becoming, increasingly, important, businesses]        |[cloud, comput, becom, increasingli, import, busi]           |[cloud, computing, becoming, increasingly, important, business]         |\n",
            "|Basketball players are preparing for the next tournament               |[basketball, players, preparing, next, tournament]                       |[basketbal, player, prepar, next, tournament]                |[basketball, player, preparing, next, tournament]                       |\n",
            "|Machine learning has revolutionized the way data is processed          |[machine, learning, revolutionized, way, data, processed]                |[machin, learn, revolution, way, data, process]              |[machine, learning, revolutionized, way, data, processed]               |\n",
            "|Political campaigns are gearing up for the upcoming elections          |[political, campaigns, gearing, upcoming, elections]                     |[polit, campaign, gear, upcom, elect]                        |[political, campaign, gearing, upcoming, election]                      |\n",
            "|The football team has been training hard for the upcoming season       |[football, team, training, hard, upcoming, season]                       |[footbal, team, train, hard, upcom, season]                  |[football, team, training, hard, upcoming, season]                      |\n",
            "|International relations are being discussed in diplomatic meetings     |[international, relations, discussed, diplomatic, meetings]              |[intern, relat, discuss, diplomat, meet]                     |[international, relation, discussed, diplomatic, meeting]               |\n",
            "|The president addressed the nation in a live broadcast                 |[president, addressed, nation, live, broadcast]                          |[presid, address, nation, live, broadcast]                   |[president, addressed, nation, live, broadcast]                         |\n",
            "|Tennis players are practicing for the grand slam matches               |[tennis, players, practicing, grand, slam, matches]                      |[tenni, player, practic, grand, slam, match]                 |[tennis, player, practicing, grand, slam, match]                        |\n",
            "|Machine learning has revolutionized the way data is processed          |[machine, learning, revolutionized, way, data, processed]                |[machin, learn, revolution, way, data, process]              |[machine, learning, revolutionized, way, data, processed]               |\n",
            "|Stock trading has become a popular way to build wealth                 |[stock, trading, become, popular, way, build, wealth]                    |[stock, trade, becom, popular, way, build, wealth]           |[stock, trading, become, popular, way, build, wealth]                   |\n",
            "|5G technology is expected to significantly improve communication speeds|[5g, technology, expected, significantly, improve, communication, speeds]|[5g, technolog, expect, significantli, improv, commun, speed]|[5g, technology, expected, significantly, improve, communication, speed]|\n",
            "|Political campaigns are gearing up for the upcoming elections          |[political, campaigns, gearing, upcoming, elections]                     |[polit, campaign, gear, upcom, elect]                        |[political, campaign, gearing, upcoming, election]                      |\n",
            "|Machine learning has revolutionized the way data is processed          |[machine, learning, revolutionized, way, data, processed]                |[machin, learn, revolution, way, data, process]              |[machine, learning, revolutionized, way, data, processed]               |\n",
            "|Investors are looking for high-yield bonds in the current market       |[investors, looking, high-yield, bonds, current, market]                 |[investor, look, high-yield, bond, current, market]          |[investor, looking, high-yield, bond, current, market]                  |\n",
            "|Quantum computing holds promise for solving complex problems           |[quantum, computing, holds, promise, solving, complex, problems]         |[quantum, comput, hold, promis, solv, complex, problem]      |[quantum, computing, hold, promise, solving, complex, problem]          |\n",
            "|Cloud computing is becoming increasingly important for businesses      |[cloud, computing, becoming, increasingly, important, businesses]        |[cloud, comput, becom, increasingli, import, busi]           |[cloud, computing, becoming, increasingly, important, business]         |\n",
            "|The Formula 1 race track is set to host the next grand prix            |[formula, 1, race, track, set, host, next, grand, prix]                  |[formula, 1, race, track, set, host, next, grand, prix]      |[formula, 1, race, track, set, host, next, grand, prix]                 |\n",
            "|Financial experts are advising on diversifying investment portfolios   |[financial, experts, advising, diversifying, investment, portfolios]     |[financi, expert, advis, diversifi, invest, portfolio]       |[financial, expert, advising, diversifying, investment, portfolio]      |\n",
            "|Stock trading has become a popular way to build wealth                 |[stock, trading, become, popular, way, build, wealth]                    |[stock, trade, becom, popular, way, build, wealth]           |[stock, trading, become, popular, way, build, wealth]                   |\n",
            "|Stock trading has become a popular way to build wealth                 |[stock, trading, become, popular, way, build, wealth]                    |[stock, trade, becom, popular, way, build, wealth]           |[stock, trading, become, popular, way, build, wealth]                   |\n",
            "+-----------------------------------------------------------------------+-------------------------------------------------------------------------+-------------------------------------------------------------+------------------------------------------------------------------------+\n",
            "only showing top 20 rows\n",
            "\n"
          ]
        }
      ]
    },
    {
      "cell_type": "code",
      "source": [
        "# Compute TF-IDF After Preprocessing\n",
        "# Apply HashingTF to the lemmatized words\n",
        "hashingTF = HashingTF(inputCol=\"lemmatized_words\", outputCol=\"raw_features\", numFeatures=500)\n",
        "df = hashingTF.transform(df)\n",
        "\n",
        "# Compute IDF\n",
        "idf = IDF(inputCol=\"raw_features\", outputCol=\"features\")\n",
        "idf_model = idf.fit(df)\n",
        "df = idf_model.transform(df)\n",
        "\n",
        "# Show TF-IDF Features\n",
        "df.select(\"text\", \"features\").show(truncate=False)"
      ],
      "metadata": {
        "colab": {
          "base_uri": "https://localhost:8080/"
        },
        "id": "aJKzV56y5mAt",
        "outputId": "4892c3e2-83bc-4f33-a22b-ce0b675630e5"
      },
      "execution_count": 9,
      "outputs": [
        {
          "output_type": "stream",
          "name": "stdout",
          "text": [
            "+-----------------------------------------------------------------------+---------------------------------------------------------------------------------------------------------------------------------------------------------------------------------------------------------------------+\n",
            "|text                                                                   |features                                                                                                                                                                                                             |\n",
            "+-----------------------------------------------------------------------+---------------------------------------------------------------------------------------------------------------------------------------------------------------------------------------------------------------------+\n",
            "|Cloud computing is becoming increasingly important for businesses      |(500,[13,287,345,374,467,480],[2.3353749158170367,2.3353749158170367,2.0476928433652555,2.3353749158170367,2.3353749158170367,2.3353749158170367])                                                                   |\n",
            "|Basketball players are preparing for the next tournament               |(500,[63,104,243,273,367],[2.740840023925201,1.488077055429833,2.740840023925201,2.0476928433652555,2.740840023925201])                                                                                              |\n",
            "|Machine learning has revolutionized the way data is processed          |(500,[40,65,72,195,360,391],[1.0360919316867758,1.824549292051046,1.824549292051046,1.824549292051046,1.824549292051046,1.3545456628053103])                                                                         |\n",
            "|Political campaigns are gearing up for the upcoming elections          |(500,[40,132,175,435,461],[1.0360919316867758,1.824549292051046,1.824549292051046,1.824549292051046,1.824549292051046])                                                                                              |\n",
            "|The football team has been training hard for the upcoming season       |(500,[38,40,104,125,358,468],[2.3353749158170367,1.0360919316867758,1.488077055429833,2.3353749158170367,2.3353749158170367,2.3353749158170367])                                                                     |\n",
            "|International relations are being discussed in diplomatic meetings     |(500,[20,60,188,208,479],[2.0476928433652555,2.3353749158170367,2.3353749158170367,2.3353749158170367,2.3353749158170367])                                                                                           |\n",
            "|The president addressed the nation in a live broadcast                 |(500,[14,244,251,306,493],[1.824549292051046,2.740840023925201,2.740840023925201,2.740840023925201,2.740840023925201])                                                                                               |\n",
            "|Tennis players are practicing for the grand slam matches               |(500,[90,94,104,226,293,456],[1.236762627148927,2.0476928433652555,1.488077055429833,2.0476928433652555,1.488077055429833,2.0476928433652555])                                                                       |\n",
            "|Machine learning has revolutionized the way data is processed          |(500,[40,65,72,195,360,391],[1.0360919316867758,1.824549292051046,1.824549292051046,1.824549292051046,1.824549292051046,1.3545456628053103])                                                                         |\n",
            "|Stock trading has become a popular way to build wealth                 |(500,[14,90,148,293,391,490],[1.824549292051046,2.473525254297854,2.0476928433652555,1.488077055429833,1.3545456628053103,2.0476928433652555])                                                                       |\n",
            "|5G technology is expected to significantly improve communication speeds|(500,[20,143,164,171,292,408,482],[2.0476928433652555,2.740840023925201,2.740840023925201,2.740840023925201,2.740840023925201,2.740840023925201,2.740840023925201])                                                  |\n",
            "|Political campaigns are gearing up for the upcoming elections          |(500,[40,132,175,435,461],[1.0360919316867758,1.824549292051046,1.824549292051046,1.824549292051046,1.824549292051046])                                                                                              |\n",
            "|Machine learning has revolutionized the way data is processed          |(500,[40,65,72,195,360,391],[1.0360919316867758,1.824549292051046,1.824549292051046,1.824549292051046,1.824549292051046,1.3545456628053103])                                                                         |\n",
            "|Investors are looking for high-yield bonds in the current market       |(500,[147,157,189,232,248,436],[2.740840023925201,2.3353749158170367,2.740840023925201,2.740840023925201,2.740840023925201,2.740840023925201])                                                                       |\n",
            "|Quantum computing holds promise for solving complex problems           |(500,[53,56,198,333,345,355,389],[2.740840023925201,2.740840023925201,2.740840023925201,2.740840023925201,2.0476928433652555,2.740840023925201,2.740840023925201])                                                   |\n",
            "|Cloud computing is becoming increasingly important for businesses      |(500,[13,287,345,374,467,480],[2.3353749158170367,2.3353749158170367,2.0476928433652555,2.3353749158170367,2.3353749158170367,2.3353749158170367])                                                                   |\n",
            "|The Formula 1 race track is set to host the next grand prix            |(500,[90,95,102,273,342,413,431,452,454],[1.236762627148927,2.3353749158170367,2.3353749158170367,2.0476928433652555,2.3353749158170367,2.3353749158170367,2.3353749158170367,2.3353749158170367,2.3353749158170367])|\n",
            "|Financial experts are advising on diversifying investment portfolios   |(500,[62,93,161,178,407,414],[2.3353749158170367,2.3353749158170367,2.3353749158170367,2.3353749158170367,2.3353749158170367,2.3353749158170367])                                                                    |\n",
            "|Stock trading has become a popular way to build wealth                 |(500,[14,90,148,293,391,490],[1.824549292051046,2.473525254297854,2.0476928433652555,1.488077055429833,1.3545456628053103,2.0476928433652555])                                                                       |\n",
            "|Stock trading has become a popular way to build wealth                 |(500,[14,90,148,293,391,490],[1.824549292051046,2.473525254297854,2.0476928433652555,1.488077055429833,1.3545456628053103,2.0476928433652555])                                                                       |\n",
            "+-----------------------------------------------------------------------+---------------------------------------------------------------------------------------------------------------------------------------------------------------------------------------------------------------------+\n",
            "only showing top 20 rows\n",
            "\n"
          ]
        }
      ]
    },
    {
      "cell_type": "code",
      "source": [
        "#Step 5: Train & Evaluate Logistic Regression Classifier\n",
        "\n",
        "# Convert category labels to numerical labels\n",
        "indexer = StringIndexer(inputCol=\"category\", outputCol=\"label\")\n",
        "df = indexer.fit(df).transform(df)\n",
        "df.select(\"category\", \"label\").distinct().show()\n",
        "# Split Data\n",
        "train_data, test_data = df.randomSplit([0.8, 0.2], seed=42)\n",
        "\n",
        "# Train Logistic Regression Model\n",
        "lr = LogisticRegression(featuresCol=\"features\", labelCol=\"label\")\n",
        "lr_model = lr.fit(train_data)\n",
        "\n",
        "# Predictions\n",
        "predictions = lr_model.transform(test_data)\n",
        "predictions.select(\"text\", \"category\", \"prediction\").show(truncate=False)\n",
        "\n",
        "# Evaluate Model Accuracy\n",
        "evaluator = MulticlassClassificationEvaluator(labelCol=\"label\", predictionCol=\"prediction\", metricName=\"accuracy\")\n",
        "accuracy_tf_idf = evaluator.evaluate(predictions)\n",
        "print(f\"TF-IDF Model Accuracy: {accuracy_tf_idf:.2f}\")"
      ],
      "metadata": {
        "colab": {
          "base_uri": "https://localhost:8080/"
        },
        "id": "v1LLd4Ow5sNN",
        "outputId": "a76a9eb4-25f3-4c97-d37f-c0fc7ca07853"
      },
      "execution_count": 10,
      "outputs": [
        {
          "output_type": "stream",
          "name": "stdout",
          "text": [
            "+----------+-----+\n",
            "|  category|label|\n",
            "+----------+-----+\n",
            "|    Sports|  0.0|\n",
            "|  Politics|  3.0|\n",
            "|   Finance|  2.0|\n",
            "|Technology|  1.0|\n",
            "+----------+-----+\n",
            "\n",
            "+--------------------------------------------------------------------+----------+----------+\n",
            "|text                                                                |category  |prediction|\n",
            "+--------------------------------------------------------------------+----------+----------+\n",
            "|Machine learning has revolutionized the way data is processed       |Technology|1.0       |\n",
            "|The president addressed the nation in a live broadcast              |Politics  |2.0       |\n",
            "|Machine learning has revolutionized the way data is processed       |Technology|1.0       |\n",
            "|Investors are looking for high-yield bonds in the current market    |Finance   |2.0       |\n",
            "|Cloud computing is becoming increasingly important for businesses   |Technology|1.0       |\n",
            "|International relations are being discussed in diplomatic meetings  |Politics  |3.0       |\n",
            "|The Formula 1 race track is set to host the next grand prix         |Sports    |0.0       |\n",
            "|Financial experts are advising on diversifying investment portfolios|Finance   |2.0       |\n",
            "+--------------------------------------------------------------------+----------+----------+\n",
            "\n",
            "TF-IDF Model Accuracy: 0.88\n"
          ]
        }
      ]
    },
    {
      "cell_type": "code",
      "source": [
        "df.select(\"category\", \"label\").distinct().show()"
      ],
      "metadata": {
        "colab": {
          "base_uri": "https://localhost:8080/"
        },
        "id": "cH_X_pt-59fd",
        "outputId": "6f127700-06c4-4ab8-bae1-ec4a10382065"
      },
      "execution_count": 11,
      "outputs": [
        {
          "output_type": "stream",
          "name": "stdout",
          "text": [
            "+----------+-----+\n",
            "|  category|label|\n",
            "+----------+-----+\n",
            "|    Sports|  0.0|\n",
            "|  Politics|  3.0|\n",
            "|   Finance|  2.0|\n",
            "|Technology|  1.0|\n",
            "+----------+-----+\n",
            "\n"
          ]
        }
      ]
    },
    {
      "cell_type": "code",
      "source": [
        "#Train Word2Vec Model\n",
        "#import Word2Vec\n",
        "from pyspark.ml.feature import Word2Vec # Import Word2Vec here\n",
        "word2Vec = Word2Vec(vectorSize=100, minCount=1, inputCol=\"lemmatized_words\", outputCol=\"featuresW2Vector\")\n",
        "word2Vec_model = word2Vec.fit(df)\n",
        "df = word2Vec_model.transform(df)\n",
        "\n",
        "df.select(\"text\", \"featuresW2Vector\").show(truncate=False)"
      ],
      "metadata": {
        "colab": {
          "base_uri": "https://localhost:8080/"
        },
        "id": "cJGmsdwr6Ayd",
        "outputId": "9a915c98-ab7f-4605-d979-a1b10724f683"
      },
      "execution_count": 12,
      "outputs": [
        {
          "output_type": "stream",
          "name": "stdout",
          "text": [
            "+-----------------------------------------------------------------------+----------------------------------------------------------------------------------------------------------------------------------------------------------------------------------------------------------------------------------------------------------------------------------------------------------------------------------------------------------------------------------------------------------------------------------------------------------------------------------------------------------------------------------------------------------------------------------------------------------------------------------------------------------------------------------------------------------------------------------------------------------------------------------------------------------------------------------------------------------------------------------------------------------------------------------------------------------------------------------------------------------------------------------------------------------------------------------------------------------------------------------------------------------------------------------------------------------------------------------------------------------------------------------------------------------------------------------------------------------------------------------------------------------------------------------------------------------------------------------------------------------------------------------------------------------------------------------------------------------------------------------------------------------------------------------------------------------------------------------------------------------------------------------------------------------------------------------------------------------------------------------------------------------------------------------------------------------------------------------------------------------------------------------------------------------------------------------------------------------------------------------------------------------------------------------------------------------------------------------------------------------------------------------------------+\n",
            "|text                                                                   |featuresW2Vector                                                                                                                                                                                                                                                                                                                                                                                                                                                                                                                                                                                                                                                                                                                                                                                                                                                                                                                                                                                                                                                                                                                                                                                                                                                                                                                                                                                                                                                                                                                                                                                                                                                                                                                                                                                                                                                                                                                                                                                                                                                                                                                                                                                                                                                                              |\n",
            "+-----------------------------------------------------------------------+----------------------------------------------------------------------------------------------------------------------------------------------------------------------------------------------------------------------------------------------------------------------------------------------------------------------------------------------------------------------------------------------------------------------------------------------------------------------------------------------------------------------------------------------------------------------------------------------------------------------------------------------------------------------------------------------------------------------------------------------------------------------------------------------------------------------------------------------------------------------------------------------------------------------------------------------------------------------------------------------------------------------------------------------------------------------------------------------------------------------------------------------------------------------------------------------------------------------------------------------------------------------------------------------------------------------------------------------------------------------------------------------------------------------------------------------------------------------------------------------------------------------------------------------------------------------------------------------------------------------------------------------------------------------------------------------------------------------------------------------------------------------------------------------------------------------------------------------------------------------------------------------------------------------------------------------------------------------------------------------------------------------------------------------------------------------------------------------------------------------------------------------------------------------------------------------------------------------------------------------------------------------------------------------+\n",
            "|Cloud computing is becoming increasingly important for businesses      |[-0.0010375056396393725,0.0011285231412330177,0.0014363637116427221,-6.407109322026372E-5,-6.50452837968866E-4,5.735986633226275E-4,0.0017270056996494532,0.002285713698559751,0.0026249161552793034,-0.0016714619038490732,-9.80051583610475E-4,0.002045498836499367,-0.0013022271820470146,-1.1310408710111611E-4,6.485454584132336E-4,-5.784278703989305E-4,0.001086621380333478,-5.338819852719704E-4,-0.002172321517718956,7.127140173300479E-4,0.0017482465409557335,0.0017359810493265588,-0.0016081863044140239,2.641240425873548E-4,0.0010026224772445858,-1.2763106497004628E-4,-3.15592368375898E-4,-0.001144864538218826,0.0011734442960005254,-0.0011587147309910506,-0.001760418041764448,-5.73615514440462E-4,3.012539236806333E-4,-0.0016421511342438557,-3.1920157683392364E-4,-2.6259568403474987E-4,7.456377097696532E-4,0.001819812425916704,3.980552646680735E-4,5.926284720771946E-4,-9.547911953025807E-4,0.0013543936426382666,-0.0022556881594937295,0.0015411337711460267,0.0012406790143965432,-0.0021193665452301502,5.269159737508744E-5,-0.0014599693834801049,6.799441774395139E-4,-4.607808853810032E-4,0.001672190090175718,0.0013609605375677347,-7.532447634730488E-4,-0.0014701726322527975,-3.362190376113479E-4,-0.0012903214083053172,-0.0012712732229071357,-5.691847448664096E-4,-3.5365036213382456E-4,-0.0013789389571077966,-8.507102975272574E-4,3.1313263752963394E-4,-0.0017711551966688905,0.0010000955468664565,9.503390174359083E-4,-2.3568847609567456E-4,-0.0015517324306226024,0.0025899690651082588,4.533001441207792E-4,-0.0014713240743731149,8.960096941639979E-4,0.0019681941582045206,0.0016569993264662721,5.929052325276036E-4,1.479359440660725E-4,-6.367713018941382E-4,-9.625349969913561E-4,0.0012548969243653119,-0.0015304489206755534,-8.710331191347601E-4,-8.2073335700746E-4,-7.882936915848404E-4,4.6034244587644935E-4,8.024146469930807E-4,-6.810454942751676E-4,7.703286779966826E-4,-4.368000857842465E-5,4.631335608185812E-4,4.8328476259484887E-4,1.236291912694772E-5,-0.0012477201720078785,0.002063126245047897,-5.373142873092244E-5,-0.0027236780539775887,-9.096450618623445E-4,5.96599774629188E-4,2.4055150788626634E-4,-7.80527227713416E-4,-0.002894663979532197,1.8335403486465413E-5]              |\n",
            "|Basketball players are preparing for the next tournament               |[0.0011597598204389215,-0.0027346213057171556,0.0029819318442605436,7.529746624641121E-4,2.0099598914384844E-4,0.0015352075686678292,2.945740823633969E-4,-8.670341958350036E-4,-0.0011021151673048736,-0.0034263263689354065,-0.0011903508799150587,-1.0871193371713162E-4,5.17490491620265E-4,-2.7805548161268233E-4,-6.583245150977746E-4,-5.926920333877207E-4,-0.001818284363253042,-3.793307667365298E-4,-0.0016080048168078066,-1.735225712764077E-4,0.0014572174986824393,-0.0010142106941202656,-7.648656843230129E-4,0.0021931962546659634,-0.0010604267590679228,1.9702839199453592E-4,-0.004385345056653023,0.0017978345742449165,-0.0026588273642119023,0.001687778497580439,0.002005399204790592,6.828723955550231E-4,-8.826657431200148E-5,-0.0016597714973613622,-0.0011430438607931137,-6.531926861498505E-4,3.9940565766301007E-4,-3.09935660334304E-4,-6.625908426940441E-4,1.1263601481914521E-5,-0.0016019989270716906,0.0011616567266173662,-1.604881137609482E-4,-1.4157001860439777E-4,-0.001125109422719106,2.0016001071780922E-4,0.0020063248462975024,0.0012727233486657498,3.080169117311016E-5,-0.0010494490619748832,0.001602010615170002,-9.747237549163402E-4,0.0011389941442757846,4.3861434096470475E-4,-0.0010377129627158865,-0.0014241248019970954,-0.0016146136214956642,-6.485135760158301E-4,8.367802540306002E-4,2.896218560636044E-4,-0.0019136501708999277,-0.002440704358741641,0.0014104161877185107,-8.621499553555623E-4,-7.745340932160616E-4,4.8160313162952666E-4,-0.001994229038245976,0.0017306332709267737,-5.843102168000769E-4,3.236365620978177E-4,-1.532845082692802E-4,0.0018019025679677726,1.1961254058405757E-4,8.459922624751926E-4,-0.0020087016746401787,0.002016903227195144,0.0010237356938887388,-1.375922525767237E-4,6.142380472738296E-4,-4.475167486816645E-4,-0.0012567377649247648,-6.380781531333924E-4,-0.0012559409951791167,-9.589004090230447E-4,0.0010011374717578292,-6.529713049530984E-4,0.0023042981047183275,8.46167983399937E-4,0.0025746619228812053,-9.525934583507478E-4,0.001720172818750143,6.65795966051519E-4,-2.941862971056253E-4,-0.0020018864888697863,-0.0016565214609727263,-0.0024097546469420195,-0.0017580546671524646,0.0024322859244421124,-0.0015951730660162867,5.097174202091992E-4]|\n",
            "|Machine learning has revolutionized the way data is processed          |[0.0011705058859661222,-0.0016393790228903526,0.0022971224486051747,-0.0011271225715366502,2.798820205498487E-4,0.0015049155820937206,0.0013900270156833963,0.0012223108278703876,7.760466542094946E-4,-0.0019210291696557154,-3.4403604513499886E-4,0.0016604580838854113,0.0016413452879836161,0.0016117555399735768,-0.0020059760427102447,5.274370438807333E-4,-0.001432990985146413,7.964654651004821E-4,4.7929241433545633E-4,-7.308084162408097E-4,-3.22456374609222E-4,-0.0012442155226987475,-1.9790251584102708E-4,-0.003664511643971006,0.001358385430648923,-2.3810003767721355E-5,0.001291184880149861,-3.841871851667141E-4,0.0011927063266436258,-9.687583660706878E-4,0.0014455091732088476,-4.0480707442232716E-4,-6.980126727285096E-4,-1.722236726588259E-4,7.078907146933489E-4,0.003327727337212612,-8.594583002074311E-4,-0.0015368829093252618,-9.544218482915312E-5,-5.773509425731996E-4,-0.0023321601911447942,-4.76964817304785E-4,-7.745769107714295E-4,0.001333169441143885,-5.011479758347074E-5,-1.0874386255939801E-4,-2.0828204772745567E-6,0.0014538101362025675,-1.8344447016716003E-4,-2.991262469246673E-5,2.9101453643913067E-4,-6.203186640050262E-4,7.675822901849945E-4,5.105714274880786E-4,0.0015330335979039469,7.837241476712127E-4,-7.144099508877844E-4,2.2194235740850368E-4,-0.0017746301018632948,4.6242235475801863E-4,-6.167109240777791E-4,-8.813371241558343E-4,1.078697775180141E-4,-8.687856122075269E-4,2.345837322839846E-4,0.0010756812795686224,-9.429738080749909E-6,8.294987455883529E-4,4.926651114753137E-4,0.0010364561373232086,4.833921169241269E-4,-2.056541998172179E-4,0.0012913096773748596,-3.2434979220852256E-4,-7.905262755230069E-4,-5.30704225335891E-5,-0.0027837091086742776,-9.469711464286471E-4,-1.4887676419069369E-5,6.875188555568457E-4,-4.4237191711242E-5,0.0012481806867678338,9.35104806558229E-4,2.230083518952597E-4,-0.0025518832844682038,4.006045637652278E-4,-9.313935370300896E-4,7.427197221356133E-4,-8.429320199259867E-4,-4.635077978794773E-5,-4.4523203784289456E-4,0.001011817716062069,-0.0022363025151814022,8.77912815970679E-4,-0.0016170212184078991,0.0013696298313637574,0.0010238246780621314,0.0013237344295096893,-1.3516397060205537E-4,-4.1819220253576833E-4]            |\n",
            "|Political campaigns are gearing up for the upcoming elections          |[-0.002637646859511733,-0.001029341493267566,-0.002359555842122063,2.155099587980658E-4,-1.1434515472501517E-4,-0.0013563738903030753,5.825281492434442E-4,-5.811518465634436E-4,7.865356019465253E-4,0.0011999472742900254,7.996143656782807E-4,5.752080120146275E-4,-2.675654657650739E-4,3.090772166615352E-4,9.503803215920926E-4,-8.214347762987019E-5,0.0015601673745550217,-0.001732604327844456,-4.7275021788664164E-4,-0.0027255980414338413,7.16135697439313E-4,0.001724675437435508,-2.581165637820959E-4,0.0027104027336463336,0.002616906422190368,0.0010744195489678532,0.0012997962767258286,-5.561354031669907E-4,0.003318273066543043,-0.0018252664478495717,0.0012939010979607702,9.0282162418589E-4,6.81816297583282E-4,0.002724508009850979,5.49871638941113E-4,0.001594082044903189,-0.0019541149493306877,4.4064668472856285E-4,5.672228406183422E-4,-0.0011418430891353638,7.927369442768396E-5,-0.0020555745344609023,-3.8423437472374645E-4,-9.543600957840682E-4,7.740277331322432E-4,-0.0016099367290735246,9.058163763256744E-4,0.0017952392750885339,-6.152372574433685E-4,2.962664875667542E-4,0.0011783971916884185,9.504388202913106E-4,3.1131337746046487E-4,3.1531999120488764E-4,2.463480341248214E-4,0.002779329149052501,6.917092825460714E-4,0.00170885972911492,0.0022520407583215274,-8.250816958025099E-4,-9.233839577063919E-4,0.003117646230384708,-0.0024130527395755056,-0.0011093938257545233,0.001805215379135916,9.758625878021122E-4,8.306517032906414E-4,-0.002558849449269474,3.2401514763478193E-4,-0.0022306230443064124,-4.583256901241839E-4,0.0023547843797132374,0.002060183766297996,-2.9390222334768623E-4,-2.2954622399993241E-4,0.0011816881131380798,-0.0013291348470374942,3.5321270115673545E-5,-0.001160957696265541,-0.0010011729784309864,-0.0013304062638781035,-0.0020930835977196693,-1.8336786888539793E-5,7.705439464189113E-4,7.91456550359726E-6,-4.6669889852637427E-4,3.59305513848085E-4,-0.0023607980925589803,0.001146079952013679,0.0017709178384393454,-0.0021607655566185714,7.795015117153525E-4,0.001330109452828765,3.96559393266216E-5,-3.2457332126796247E-4,0.001709882845170796,-7.03625162714161E-5,-4.0102847851812844E-4,0.003671708470210433,-7.783905602991581E-5]                              |\n",
            "|The football team has been training hard for the upcoming season       |[-0.0019172324294534822,-0.0010774764620388546,-9.540447790641338E-4,-0.0015951732930261642,-3.4318844942996896E-4,0.0025922708058108883,0.0015245921288927395,0.001537963151349686,-0.0021700708918312253,-5.851149714241425E-4,1.76075732724712E-4,4.082815139554441E-4,-6.614457621860007E-5,-2.7466454776003957E-4,0.0022105920943431556,-0.0019205207451401898,-1.5696055682686466E-4,-6.494413149387885E-4,-0.001111685880459845,4.6271272973778344E-4,-0.0019867112083981433,1.156092039309442E-4,-0.001655203338790064,0.0011959326899765679,-0.0022761025466024876,-0.0010230777158236983,-0.0015302645430589714,-6.986742761606971E-4,0.0016196890889356532,3.6088941851630807E-4,8.338791182419905E-5,5.66204488374448E-4,9.440326005763684E-4,-0.0012265450010697045,7.381939261298005E-4,-6.56866575203215E-4,3.349231362032393E-4,7.826865185052156E-4,-0.0021280839476579176,-2.2915406346631545E-4,4.374904116654458E-4,-0.001641174293278406,-0.001075975461086879,0.0010538050349471935,0.001361337878430883,-0.0011544870600725212,-4.23229822141972E-4,8.948993927333504E-4,8.282032116161038E-4,-2.5251754656589276E-4,4.916213608036438E-4,5.898615442371616E-4,-0.0012474405230022967,-8.501208576490171E-4,-1.0005234435084276E-4,4.211076011415571E-4,-0.0013426253444777103,2.7812322756896413E-4,0.0016684607641460993,-0.0018851355101408747,-3.1213081820169464E-4,-4.636961384676397E-4,7.621178519912064E-5,5.270725038523475E-4,-0.0013929903701258202,-0.0013331823865883052,-8.752710273256525E-4,-0.001194337717606686,-0.001225033551842595,-7.597227037573853E-5,0.0018769342956754067,-6.403999480729301E-4,6.784101909336944E-5,2.061542763840407E-4,-0.002367693329385171,0.00253675488056615,-0.0016100363767084975,0.001883280948580553,-5.220909879426472E-4,1.979707424955753E-5,-8.856057562904122E-4,-0.0017823617745307274,-0.001013596986012999,-0.0011446180190735806,-6.384982261806726E-4,3.8820245633057005E-4,0.002281674523449813,4.323110091111933E-4,-4.240251097750539E-4,-6.947519517173835E-4,3.3222982892766595E-5,9.376500966027379E-4,2.079466624612299E-5,1.3677000515599502E-4,-0.0021561005366190025,-3.3537396423829097E-4,3.501833404394953E-4,0.0013771381539603074,-7.111081625528944E-5,-6.197264301590621E-4]          |\n",
            "|International relations are being discussed in diplomatic meetings     |[8.640202227979899E-4,-0.0011906841071322562,-3.0955222900956873E-4,6.223561998922379E-4,-8.811361622065306E-4,-7.965252691064962E-4,3.430561861023307E-4,-5.602634133538231E-4,-0.0021440602373331784,2.718506148084998E-4,-8.787455270066858E-4,-8.76920868176967E-4,3.795399446971715E-4,0.0021150431537535043,0.0011128295445814729,-2.3330183466896415E-4,-8.371826726943255E-4,0.0021468516988534248,-9.74063269677572E-4,0.0012915142928250135,-7.747296011075378E-4,0.0014999660896137358,1.1903438717126847E-4,4.1382272029295565E-4,-0.002193470625206828,-9.141191607341171E-4,0.0022208544774912297,-7.303811144083738E-5,0.0010419861151603983,7.098104804754258E-4,-0.0011301704565994442,9.638717398047447E-4,-0.0022443422698415817,-0.0017732499924022706,-8.385360008105636E-4,-0.001646787114441395,-4.4856609310954814E-4,1.9298524130135776E-4,-0.001872874377295375,0.0014719799510203302,-4.1996946092695E-4,-0.0020521208003629,0.0016166178800631316,3.3188193337991835E-4,-9.657843504101038E-4,-7.98626960022375E-4,-2.2915948648005726E-6,7.809118833392859E-5,-0.003223382856231183,7.027787622064353E-4,0.0013547287380788475,-0.0017232938203960658,-1.3058158801868558E-4,0.0012641311855986716,0.001917410595342517,0.001255488704191521,6.969913374632597E-5,3.700015833601356E-4,-0.0013778188615106047,-0.002034552766417619,0.0016363075235858561,0.0010032329242676498,8.22168542072177E-5,9.895452065393328E-4,-0.003971102647483349,1.409002987202257E-4,-0.0019159071205649527,-0.0013253828044980766,5.047264741733671E-4,-0.0021960568788927048,-6.486978731118143E-4,-8.661325671710075E-4,0.0018596064765006304,0.0013537942664697768,-7.945268880575895E-4,0.0020834332797676327,-9.31675173342228E-4,-3.390970290638507E-4,7.974144711624831E-4,-0.0011308866007311736,5.226165289059281E-4,-9.60753916297108E-4,-1.0388906812295318E-4,-0.0014945887145586313,-0.0016513895941898228,0.0014405743451789022,6.35692267678678E-4,-3.268702421337366E-4,-3.6339531652629375E-4,-0.001827898097690195,6.41476791133755E-4,0.002651565754786134,0.0015683380363043398,1.7012807074934243E-5,-0.003138649510219693,9.504658402875066E-4,7.652562751900405E-4,6.854760460555554E-4,3.8101507343526466E-4,-1.8372132908552887E-4]                     |\n",
            "|The president addressed the nation in a live broadcast                 |[-0.0022449052310548724,-5.507431458681822E-4,-0.0015405943384394051,5.732051795348525E-5,-0.0033531701425090436,1.9526644609868527E-5,-2.790594007819891E-4,7.660195144126192E-4,7.654925808310509E-4,-0.0011054277885705233,0.0017973846290260554,0.0010733579518273472,-6.800179951824248E-4,-1.006663776934147E-4,0.001323111983947456,0.0013924341270467268,0.0023865482420660556,-6.796726025640965E-4,0.0018480369384633378,0.002049312542658299,0.0019210750004276635,0.0023885369300842285,3.1138689955696465E-4,8.584252267610283E-4,-0.0028935795649886135,-0.0011397931433748455,0.0010178273310884835,-0.001550196995958686,-0.0018629247671924532,-0.0011688444763422012,0.0010691417031921447,0.0017100225435569883,-7.529559312388301E-4,5.118909990414977E-4,0.0017366359476000072,-7.113262370694429E-4,-0.0022375552798621356,7.086595520377159E-4,-9.775561047717929E-4,-0.0013582390733063222,1.679852430243045E-4,4.34386357665062E-4,0.001221849792636931,-9.525028523057699E-4,-0.003507666033692658,-1.1322946375003085E-4,-0.0012743477011099458,-2.6099863171111796E-4,-0.0011041108053177595,-5.926264682784677E-4,-4.20213642064482E-4,0.0021132349967956546,0.001938147214241326,-0.0014492877526208758,0.00221903957426548,-3.498627687804401E-4,4.720363416709006E-4,-0.001018118963111192,9.982830844819546E-4,-0.0014838029514066876,-0.0010417579556815328,0.0012034104205667973,0.0015331012022215874,0.0011074252892285586,3.903274424374104E-4,-0.001246264816290932,0.0012998004043765833,-0.001062385764089413,0.00217783460393548,0.0015243057627230884,0.0026647231541574003,0.0015209167264401914,0.0016882754862308502,0.001450899848714471,0.0016640917863696815,-7.08598003257066E-4,0.001669298845808953,0.0026268456131219864,3.707847441546619E-4,0.0018904575146734715,-4.531766753643752E-5,-1.5775389038026334E-4,2.04833853058517E-4,6.342533277347685E-4,6.928653514478357E-4,5.155707593075932E-4,0.0017056072596460582,-0.0012565563432872296,-0.00221261935075745,0.002532189327757806,-7.227653171867133E-4,8.506921469233931E-4,-0.0016887992387637496,0.0023226781282573938,8.126704487949611E-5,-1.3244033325463534E-4,0.0014134251861833036,0.0019558080821298063,0.0018398997373878956,6.312131969025359E-4]                   |\n",
            "|Tennis players are practicing for the grand slam matches               |[0.001059956868023922,-0.0022826518543297425,-0.0011298238362845343,0.0014415992870150753,6.78009974459807E-4,8.49757913480668E-4,-7.173612151139726E-4,-0.002033372383569561,4.241817562918489E-4,-0.002414240695846577,-6.993029965087771E-4,-2.3567335059245426E-4,-0.001868476179273178,-7.451822360356648E-5,-0.00146549180499278,9.93462192127481E-4,5.305387943129365E-4,-8.930644908105023E-4,0.002134797234854583,-6.260332496215899E-4,-0.001004820206920461,-0.0012327304866630584,-0.002248805947601795,2.55409696061785E-4,1.2545899759667614E-4,4.77079704675513E-4,-0.0015114949783310294,-5.115863944714267E-4,-6.102695479057729E-4,2.412453638195681E-4,0.0023532315196158984,8.692706081395347E-4,-0.0022671136539429426,0.0014857667847536504,-0.0015869113170386602,0.001296621795821314,-7.983088738304407E-4,-4.2644312634365633E-4,-3.86277485328416E-4,-2.1677708718925714E-4,-0.0011173795319336932,0.0011116495685807117,0.0012601083205178534,-4.7514150355709717E-4,0.0012288402213016525,0.002498056011972949,-0.00295220292173326,-0.0020637812892042953,1.4219797837237516E-4,-5.219604451364527E-4,8.7873265632273E-4,-5.39788044989109E-4,2.0988149723658957E-5,-7.752909926542391E-4,-0.0010042760501770922,-4.87421581055969E-4,-4.6249284059740603E-4,0.0014143183555764456,0.001464379614238472,-0.0018081926536979154,-0.0019301141728647053,4.962536816795666E-4,0.0011023834231309593,3.278026512513558E-5,-0.001989487442187965,2.571541554061696E-4,0.0017762871963592866,0.0016765078180469573,-0.0015299554130857964,-4.854047438129783E-5,4.62296981519709E-5,0.0019072669480616846,2.79641723561023E-4,7.97586088689665E-4,-0.0019148883147863671,-2.1894299182652804E-4,0.0014813108815966793,8.027445243593926E-4,0.001945085396679739,1.0598077399966616E-5,7.570370895943294E-4,6.201373010602158E-4,-6.23955944320187E-4,-0.0017571782761175805,-0.002217762017001708,1.9316591594057778E-4,-2.7793521682421363E-4,-0.0013530548167182133,-0.001636941626202315,1.1705907915408412E-4,0.002513028923810149,4.731313674710691E-4,7.070167339406908E-4,1.4620299286131436E-4,0.0019844741036649793,-5.657702373961607E-4,-0.001507284352555871,2.0153913161872575E-4,-6.282053169949601E-4,0.002072929268858085]                            |\n",
            "|Machine learning has revolutionized the way data is processed          |[0.0011705058859661222,-0.0016393790228903526,0.0022971224486051747,-0.0011271225715366502,2.798820205498487E-4,0.0015049155820937206,0.0013900270156833963,0.0012223108278703876,7.760466542094946E-4,-0.0019210291696557154,-3.4403604513499886E-4,0.0016604580838854113,0.0016413452879836161,0.0016117555399735768,-0.0020059760427102447,5.274370438807333E-4,-0.001432990985146413,7.964654651004821E-4,4.7929241433545633E-4,-7.308084162408097E-4,-3.22456374609222E-4,-0.0012442155226987475,-1.9790251584102708E-4,-0.003664511643971006,0.001358385430648923,-2.3810003767721355E-5,0.001291184880149861,-3.841871851667141E-4,0.0011927063266436258,-9.687583660706878E-4,0.0014455091732088476,-4.0480707442232716E-4,-6.980126727285096E-4,-1.722236726588259E-4,7.078907146933489E-4,0.003327727337212612,-8.594583002074311E-4,-0.0015368829093252618,-9.544218482915312E-5,-5.773509425731996E-4,-0.0023321601911447942,-4.76964817304785E-4,-7.745769107714295E-4,0.001333169441143885,-5.011479758347074E-5,-1.0874386255939801E-4,-2.0828204772745567E-6,0.0014538101362025675,-1.8344447016716003E-4,-2.991262469246673E-5,2.9101453643913067E-4,-6.203186640050262E-4,7.675822901849945E-4,5.105714274880786E-4,0.0015330335979039469,7.837241476712127E-4,-7.144099508877844E-4,2.2194235740850368E-4,-0.0017746301018632948,4.6242235475801863E-4,-6.167109240777791E-4,-8.813371241558343E-4,1.078697775180141E-4,-8.687856122075269E-4,2.345837322839846E-4,0.0010756812795686224,-9.429738080749909E-6,8.294987455883529E-4,4.926651114753137E-4,0.0010364561373232086,4.833921169241269E-4,-2.056541998172179E-4,0.0012913096773748596,-3.2434979220852256E-4,-7.905262755230069E-4,-5.30704225335891E-5,-0.0027837091086742776,-9.469711464286471E-4,-1.4887676419069369E-5,6.875188555568457E-4,-4.4237191711242E-5,0.0012481806867678338,9.35104806558229E-4,2.230083518952597E-4,-0.0025518832844682038,4.006045637652278E-4,-9.313935370300896E-4,7.427197221356133E-4,-8.429320199259867E-4,-4.635077978794773E-5,-4.4523203784289456E-4,0.001011817716062069,-0.0022363025151814022,8.77912815970679E-4,-0.0016170212184078991,0.0013696298313637574,0.0010238246780621314,0.0013237344295096893,-1.3516397060205537E-4,-4.1819220253576833E-4]            |\n",
            "|Stock trading has become a popular way to build wealth                 |[7.57897973796519E-4,0.0011801918735727668,2.3030641854607632E-4,0.0013746557274966367,-4.299508041835257E-5,0.001496202911117247,2.471859978478668E-4,0.0015058709853162456,-0.0016108085193471716,-0.0011785356826814156,2.870847737150533E-4,0.0012171153378273758,-7.674625085201114E-4,4.7749374893360904E-4,2.886527217924595E-4,-7.157099399981754E-4,-0.0015026534674689174,0.0027660698230777465,0.0028409001949642383,5.000183924234339E-4,3.662465938499996E-5,0.0010189572390767612,-2.3019386987601007E-4,-5.766025050044325E-4,0.0010333548000614557,-4.253553550889981E-4,-0.002801813750660845,0.0014733501843043734,-2.499109874146857E-4,0.0019981914166627185,-0.0021001591563357836,-0.0011829651978457279,-7.9560126843197E-4,-0.00262220053368115,-0.002123073793232574,-9.744960282530102E-6,8.220287605321833E-4,-1.4964939327910542E-4,0.0010121819962348256,0.0010311667241954378,-0.0015383083373308182,-4.6136416702730846E-4,-0.0012904299323314003,-0.0012065250684827333,-1.3104544320542897E-4,3.395486855879426E-4,-1.635486925286906E-4,5.905173197139187E-4,-3.172348868767066E-4,-0.0011718328460119665,-4.508895259017923E-4,-8.724707710955823E-4,1.9348201125727167E-4,0.0017297132497852933,0.0010756368449489984,7.618759820096394E-4,6.689670637050377E-4,-0.002224935750876154,0.0020689952486593805,-2.1905369274983447E-4,3.6243159723068984E-4,-7.9492263362876E-4,-9.45030603491302E-4,0.0025731557980179787,-2.913686948886607E-4,-6.613235288698759E-4,1.776251384788858E-4,0.0011650479957877125,7.556643353642097E-4,-5.68947425303382E-4,-0.001145427264938397,0.0018628338044176676,0.0016659609640815426,-2.1184354305400378E-4,-9.042102984884487E-4,0.001702699646037737,4.3080642353743315E-4,0.002684677352330514,5.411379637994936E-4,9.716076726493026E-4,-0.0013305690538670334,-3.340660935334329E-5,4.939849189083491E-4,4.6985813761628894E-4,0.0010842714026304226,2.1000544906460812E-4,4.8803907286907943E-4,-0.001492874530543174,-0.001451917050871998,-0.0025983044511771625,-0.0017405454512169983,0.0032214141766806798,-6.203606192554746E-4,1.1687725782394409E-4,1.560584725146847E-4,-2.70939473661461E-4,-6.072676707325237E-4,6.362645737161593E-4,5.012128562417014E-4,-0.0027319606659667833]                 |\n",
            "|5G technology is expected to significantly improve communication speeds|[3.535578102206013E-4,6.372077872843614E-5,-0.0015879530193550245,-8.586957036251468E-4,-4.6482422788228305E-4,6.179674694846783E-4,-0.0012616854343962456,5.981818581598677E-4,0.0024081492364140494,-1.4195384989891733E-4,-0.0010935667991621553,5.985914446812655E-4,-4.185914627409407E-4,1.292169576377741E-4,4.647475101851991E-4,7.596386130899191E-4,8.9292209096519E-4,-6.527203368023038E-5,1.735552047778453E-4,-0.0012394450272300414,0.0010463891085237265,-3.483977592882833E-4,0.0027451048704928583,6.185611793106155E-4,-5.044239566944141E-4,-0.0012997727234116089,1.1199451442475297E-4,9.483566391281784E-4,-7.254661696996273E-4,6.082701396995357E-5,-3.05786690140459E-4,0.0010509800881014339,-0.001778237920786653,0.002686541826863374,-6.860001012682915E-4,-6.164118614313857E-4,0.0012901371062201048,-1.470262068323791E-4,0.002681521016971341,-1.7792532993813178E-4,6.771067024341651E-4,0.0011428213827977222,-0.0010954017883964948,-6.936145447460668E-6,3.3212044010204924E-5,-0.001305497733743063,-0.001221484812309167,-7.530791086277791E-4,-1.367285315479551E-4,8.780993188598325E-4,6.61562429741025E-4,-1.3100004122991646E-5,-7.838177428181682E-4,-6.972904416865536E-5,0.0013552781976094203,-7.174961293847965E-4,0.0014060140383662656,-0.0015519534437251942,-0.0013938684382342867,0.001098339061302665,0.001254164429805574,2.778779836652185E-4,8.445910747728443E-4,0.0020491914973328157,0.0013144092559481838,-4.331360604347927E-4,0.002848717916224684,3.1223329382815526E-5,6.701008928108161E-4,-3.347513931138175E-4,1.5181962849705345E-4,-1.9985389163983719E-4,-1.933577171127711E-4,0.0014558910625055432,-4.2499927803874016E-4,0.0026497020257271026,-0.0014479739458173363,-2.397501728929845E-5,0.0010678492835722864,-4.0867617125124004E-4,-0.0017910898157944236,7.982980210467108E-4,-0.002027494319398621,6.918714165554514E-4,-5.437904370150395E-5,0.0025989071083521204,-0.0012824842041092258,0.001882158047789874,-2.403270503106926E-4,-7.09468636029799E-4,6.95767080677407E-4,-2.7490339821919667E-4,2.1110578174037592E-4,0.0015752311696165372,1.8699400970945135E-4,5.781731111450686E-4,0.0028024770103261937,3.455790824123791E-4,7.746133653979216E-4,-0.002532702233500978]                       |\n",
            "|Political campaigns are gearing up for the upcoming elections          |[-0.002637646859511733,-0.001029341493267566,-0.002359555842122063,2.155099587980658E-4,-1.1434515472501517E-4,-0.0013563738903030753,5.825281492434442E-4,-5.811518465634436E-4,7.865356019465253E-4,0.0011999472742900254,7.996143656782807E-4,5.752080120146275E-4,-2.675654657650739E-4,3.090772166615352E-4,9.503803215920926E-4,-8.214347762987019E-5,0.0015601673745550217,-0.001732604327844456,-4.7275021788664164E-4,-0.0027255980414338413,7.16135697439313E-4,0.001724675437435508,-2.581165637820959E-4,0.0027104027336463336,0.002616906422190368,0.0010744195489678532,0.0012997962767258286,-5.561354031669907E-4,0.003318273066543043,-0.0018252664478495717,0.0012939010979607702,9.0282162418589E-4,6.81816297583282E-4,0.002724508009850979,5.49871638941113E-4,0.001594082044903189,-0.0019541149493306877,4.4064668472856285E-4,5.672228406183422E-4,-0.0011418430891353638,7.927369442768396E-5,-0.0020555745344609023,-3.8423437472374645E-4,-9.543600957840682E-4,7.740277331322432E-4,-0.0016099367290735246,9.058163763256744E-4,0.0017952392750885339,-6.152372574433685E-4,2.962664875667542E-4,0.0011783971916884185,9.504388202913106E-4,3.1131337746046487E-4,3.1531999120488764E-4,2.463480341248214E-4,0.002779329149052501,6.917092825460714E-4,0.00170885972911492,0.0022520407583215274,-8.250816958025099E-4,-9.233839577063919E-4,0.003117646230384708,-0.0024130527395755056,-0.0011093938257545233,0.001805215379135916,9.758625878021122E-4,8.306517032906414E-4,-0.002558849449269474,3.2401514763478193E-4,-0.0022306230443064124,-4.583256901241839E-4,0.0023547843797132374,0.002060183766297996,-2.9390222334768623E-4,-2.2954622399993241E-4,0.0011816881131380798,-0.0013291348470374942,3.5321270115673545E-5,-0.001160957696265541,-0.0010011729784309864,-0.0013304062638781035,-0.0020930835977196693,-1.8336786888539793E-5,7.705439464189113E-4,7.91456550359726E-6,-4.6669889852637427E-4,3.59305513848085E-4,-0.0023607980925589803,0.001146079952013679,0.0017709178384393454,-0.0021607655566185714,7.795015117153525E-4,0.001330109452828765,3.96559393266216E-5,-3.2457332126796247E-4,0.001709882845170796,-7.03625162714161E-5,-4.0102847851812844E-4,0.003671708470210433,-7.783905602991581E-5]                              |\n",
            "|Machine learning has revolutionized the way data is processed          |[0.0011705058859661222,-0.0016393790228903526,0.0022971224486051747,-0.0011271225715366502,2.798820205498487E-4,0.0015049155820937206,0.0013900270156833963,0.0012223108278703876,7.760466542094946E-4,-0.0019210291696557154,-3.4403604513499886E-4,0.0016604580838854113,0.0016413452879836161,0.0016117555399735768,-0.0020059760427102447,5.274370438807333E-4,-0.001432990985146413,7.964654651004821E-4,4.7929241433545633E-4,-7.308084162408097E-4,-3.22456374609222E-4,-0.0012442155226987475,-1.9790251584102708E-4,-0.003664511643971006,0.001358385430648923,-2.3810003767721355E-5,0.001291184880149861,-3.841871851667141E-4,0.0011927063266436258,-9.687583660706878E-4,0.0014455091732088476,-4.0480707442232716E-4,-6.980126727285096E-4,-1.722236726588259E-4,7.078907146933489E-4,0.003327727337212612,-8.594583002074311E-4,-0.0015368829093252618,-9.544218482915312E-5,-5.773509425731996E-4,-0.0023321601911447942,-4.76964817304785E-4,-7.745769107714295E-4,0.001333169441143885,-5.011479758347074E-5,-1.0874386255939801E-4,-2.0828204772745567E-6,0.0014538101362025675,-1.8344447016716003E-4,-2.991262469246673E-5,2.9101453643913067E-4,-6.203186640050262E-4,7.675822901849945E-4,5.105714274880786E-4,0.0015330335979039469,7.837241476712127E-4,-7.144099508877844E-4,2.2194235740850368E-4,-0.0017746301018632948,4.6242235475801863E-4,-6.167109240777791E-4,-8.813371241558343E-4,1.078697775180141E-4,-8.687856122075269E-4,2.345837322839846E-4,0.0010756812795686224,-9.429738080749909E-6,8.294987455883529E-4,4.926651114753137E-4,0.0010364561373232086,4.833921169241269E-4,-2.056541998172179E-4,0.0012913096773748596,-3.2434979220852256E-4,-7.905262755230069E-4,-5.30704225335891E-5,-0.0027837091086742776,-9.469711464286471E-4,-1.4887676419069369E-5,6.875188555568457E-4,-4.4237191711242E-5,0.0012481806867678338,9.35104806558229E-4,2.230083518952597E-4,-0.0025518832844682038,4.006045637652278E-4,-9.313935370300896E-4,7.427197221356133E-4,-8.429320199259867E-4,-4.635077978794773E-5,-4.4523203784289456E-4,0.001011817716062069,-0.0022363025151814022,8.77912815970679E-4,-0.0016170212184078991,0.0013696298313637574,0.0010238246780621314,0.0013237344295096893,-1.3516397060205537E-4,-4.1819220253576833E-4]            |\n",
            "|Investors are looking for high-yield bonds in the current market       |[-7.947694089125434E-4,-3.972223009138057E-4,-1.5912996605038643E-4,8.600127184763551E-4,-0.0010453127015352948,-0.0022498471856427687,-0.001783813483295186,-9.143252100329846E-4,-0.0011407794809201732,-6.017235185330112E-4,0.001220361174394687,-0.0014567100103401267,-1.0617137498532732E-4,-7.891591424898554E-4,0.0019491996936267242,-7.634717912878841E-4,6.907573382098537E-4,-2.462721531628631E-4,-0.0016668621877518792,-0.0026794214451607936,-4.146343174700935E-5,3.28436823717008E-5,-1.5619393282880384E-4,8.978048911861454E-4,-0.0020328129758127034,4.0441544842906296E-4,-5.279688921291381E-4,0.0013679601058053472,-9.456091017151872E-4,-5.967245767048249E-4,3.5766673196728027E-4,-0.0029924375218494483,-0.001094630550748358,-8.469487656839192E-4,-2.001531126249271E-4,-8.475960154707233E-4,-0.0019784204584235945,0.0010546741929526129,-0.002151244503086976,0.001155649074159252,0.001672173326369375,2.7046865822436905E-4,-1.7261259199585766E-4,-9.682203866153334E-5,2.0654359468608163E-4,-6.563021064115067E-4,-0.0014405264070470971,-3.1125249127702165E-4,-0.0021454742333541312,1.7646347744933638E-4,0.0010040690152285,-2.4346437809678415E-4,-4.877357647880368E-4,-1.9761948108983535E-4,8.442897815257311E-4,5.407532250198225E-4,2.1818340367948014E-4,-8.594462803254525E-4,0.0030901948921382427,0.0015830978724504043,9.519637872775395E-4,0.0017936123210044266,8.63549057006215E-4,-0.0024156023670608797,-7.884405446626866E-4,8.800489498147119E-4,0.0014525719452649355,8.529421320417896E-4,0.002020026052681108,9.456840610558477E-4,-5.578283744398504E-4,7.764093655472E-4,-6.373823634930886E-4,0.001571450897396668,-0.001038400262283782,-0.0010184575415526826,2.925251901615411E-4,-4.1834829607978463E-4,2.3977963064680807E-4,-2.54456652328372E-4,-0.0015515743289142847,0.001733420644692766,-7.482934209595744E-4,-2.2332378042240936E-4,-0.0020638867160111354,-0.0013696611276827753,-2.3109980975277722E-4,-0.0014551146887242794,0.0019564454075104245,-0.0018204146763309836,3.7312551285140216E-4,0.0017833656371900966,-0.002711923885120389,5.154596777477611E-4,-0.0015433099664126833,-1.5456947949132882E-5,-6.716531934216619E-4,-2.2982478064174453E-4,-0.0024818286571341255,4.6902401178764797E-4]  |\n",
            "|Quantum computing holds promise for solving complex problems           |[-0.002010055788559839,1.2231581578297273E-4,-5.86748871553157E-4,2.635356338162507E-4,-2.7764991890372973E-4,6.76357711199671E-4,0.002218225160114733,-0.00227809529003155,0.0013781843091627316,5.082528794965972E-4,-9.844695034969065E-4,7.629863768150763E-4,-0.0013388336051970587,0.0012311546223437678,-0.0011593338708085607,0.0014870994595444892,9.456156767555512E-4,4.6081254757674674E-5,-0.00154140723835943,0.0012553669257613365,0.0015855707752052695,7.440009503625333E-4,-5.268872191663831E-4,9.65551340154239E-4,5.9915806299873756E-5,-0.0010177156987733074,-7.250699148114238E-4,-1.1233190473701272E-4,2.824609026512397E-4,6.616038237033146E-5,2.6456140247838836E-4,0.0010343648277090064,-1.3984440478712453E-4,2.1587251727136648E-4,-9.772480760667739E-5,-7.888681887249861E-4,3.694080390102629E-4,0.0015627617852130371,-4.411781057050185E-6,-7.364850940315851E-4,-0.0025382580767784797,2.931963463197462E-4,-0.0018932842067442834,-1.2452394834586551E-4,7.826789681400571E-4,-3.5953036110316E-4,5.89259185029992E-5,-8.743332353852955E-4,3.8953352902483724E-4,-5.753697935558323E-4,0.0011200753423119228,-6.536868417502513E-4,2.607742540671357E-4,3.211619332432747E-4,-1.907141164078244E-5,3.479517638749842E-4,-3.157496768315988E-4,-9.656815091148019E-4,2.6742998618699076E-4,9.345900720550811E-4,-8.743749910666207E-4,5.599842656270734E-5,-3.7058592507881774E-4,-2.9079216931547436E-6,1.6784573381301016E-4,-6.581522985860439E-4,-4.3316227051296404E-4,0.0015163404043830398,-0.0017704805567128848,6.834902368219835E-4,-8.797764063014515E-4,3.677157843152859E-4,0.0012208782469055482,-0.0019204222397612672,0.0017524722331602658,0.0018890217512047716,5.892702943778463E-4,-1.6849752033262379E-4,-0.0014447495008685757,-3.908733404906732E-4,0.001391742068725372,-6.600521789680767E-4,-9.996155775817376E-4,1.8289565507854732E-4,-6.886277800991332E-4,0.0010230341909586319,9.513860810069932E-4,6.893062506735857E-4,-2.591780960626368E-4,1.4635406841989607E-4,6.364859873428941E-4,0.0016199946736118623,0.0017927864973898977,3.1942295442734443E-4,8.394989251558269E-4,-9.309469439488436E-4,6.873173073732426E-4,-0.0011884310640328164,-8.115174184370386E-4,-2.7628220517986586E-4]                       |\n",
            "|Cloud computing is becoming increasingly important for businesses      |[-0.0010375056396393725,0.0011285231412330177,0.0014363637116427221,-6.407109322026372E-5,-6.50452837968866E-4,5.735986633226275E-4,0.0017270056996494532,0.002285713698559751,0.0026249161552793034,-0.0016714619038490732,-9.80051583610475E-4,0.002045498836499367,-0.0013022271820470146,-1.1310408710111611E-4,6.485454584132336E-4,-5.784278703989305E-4,0.001086621380333478,-5.338819852719704E-4,-0.002172321517718956,7.127140173300479E-4,0.0017482465409557335,0.0017359810493265588,-0.0016081863044140239,2.641240425873548E-4,0.0010026224772445858,-1.2763106497004628E-4,-3.15592368375898E-4,-0.001144864538218826,0.0011734442960005254,-0.0011587147309910506,-0.001760418041764448,-5.73615514440462E-4,3.012539236806333E-4,-0.0016421511342438557,-3.1920157683392364E-4,-2.6259568403474987E-4,7.456377097696532E-4,0.001819812425916704,3.980552646680735E-4,5.926284720771946E-4,-9.547911953025807E-4,0.0013543936426382666,-0.0022556881594937295,0.0015411337711460267,0.0012406790143965432,-0.0021193665452301502,5.269159737508744E-5,-0.0014599693834801049,6.799441774395139E-4,-4.607808853810032E-4,0.001672190090175718,0.0013609605375677347,-7.532447634730488E-4,-0.0014701726322527975,-3.362190376113479E-4,-0.0012903214083053172,-0.0012712732229071357,-5.691847448664096E-4,-3.5365036213382456E-4,-0.0013789389571077966,-8.507102975272574E-4,3.1313263752963394E-4,-0.0017711551966688905,0.0010000955468664565,9.503390174359083E-4,-2.3568847609567456E-4,-0.0015517324306226024,0.0025899690651082588,4.533001441207792E-4,-0.0014713240743731149,8.960096941639979E-4,0.0019681941582045206,0.0016569993264662721,5.929052325276036E-4,1.479359440660725E-4,-6.367713018941382E-4,-9.625349969913561E-4,0.0012548969243653119,-0.0015304489206755534,-8.710331191347601E-4,-8.2073335700746E-4,-7.882936915848404E-4,4.6034244587644935E-4,8.024146469930807E-4,-6.810454942751676E-4,7.703286779966826E-4,-4.368000857842465E-5,4.631335608185812E-4,4.8328476259484887E-4,1.236291912694772E-5,-0.0012477201720078785,0.002063126245047897,-5.373142873092244E-5,-0.0027236780539775887,-9.096450618623445E-4,5.96599774629188E-4,2.4055150788626634E-4,-7.80527227713416E-4,-0.002894663979532197,1.8335403486465413E-5]              |\n",
            "|The Formula 1 race track is set to host the next grand prix            |[-0.0014381752763357426,-0.0012281481499990656,-2.584349519262711E-4,-0.0010004636003739303,-9.985734553386767E-4,2.50390808408459E-4,8.264069086483989E-4,-4.072718438692391E-4,4.3681575981382694E-4,-9.264124997167123E-5,-4.3407242952121626E-4,4.616022342815995E-4,-5.548906709817755E-4,-0.0018385338900972984,7.991913751336848E-4,-4.8146621945003666E-5,-3.633084448261393E-4,-7.903767659121917E-4,-3.757493001709614E-4,-3.21659760730755E-4,0.0010722634809402127,-0.0016067135762164574,1.0957209128213838E-4,9.504780278398861E-4,6.5591545232261215E-6,0.0013299717150706176,-0.0023973181701472234,0.0016846274957060814,-5.392050176548461E-4,-2.5882101100352074E-6,0.0019426428544748987,4.295500362382477E-4,-9.131654320905606E-4,5.932068322888679E-4,-0.0019512863234720295,-0.0010096330402625932,-9.480160531691378E-4,-3.459363150694925E-4,-4.795666221374025E-4,0.0017407407091620066,-7.914599393390947E-4,1.261381221411284E-4,0.0015989055132700335,-5.327526790400345E-4,9.1556119473858E-4,4.3793809406148887E-4,-0.0012695002240232294,-5.262230471190478E-4,0.0018188932582335028,0.002274810233049922,-0.0015458726362946131,3.3264310817078996E-4,3.283688323184227E-4,-3.5312445510903164E-4,-4.709683303695379E-4,2.267274022516277E-4,-0.0014293815895345889,7.416302145833874E-4,-0.00188236334199448,0.0014340418436202323,-6.146233451242248E-4,-2.2319859514633814E-4,8.250034621192348E-4,-5.167609843839373E-4,-4.7703396477219125E-5,-0.0011528046840491393,-0.003280089935287833,0.0010244244864831367,-7.595870152322782E-4,-0.0012269471577989557,-0.0016994062009164027,-1.0403131859170065E-4,8.179580448389363E-4,-0.0010539148869510326,-0.0018619079298029342,-4.838124861837261E-4,-0.001392568750816281,-0.0019104235204091915,9.841353134510831E-4,8.544714267676075E-4,-9.414061639997978E-4,0.003382049876058267,8.1750247368796E-5,0.0011633220419753343,-0.0013407782551237485,2.993799716932699E-5,-3.024333952149997E-4,-0.0015373061501627993,-0.001611739976599185,-6.642400662207769E-4,0.0013108224504523806,3.511723415512178E-4,2.4637730772762245E-4,-0.0019405393266222542,0.0017118336561705088,-0.001133880306345721,0.0020661807179244026,7.873015711084008E-4,9.857729698220887E-4,5.194869097774952E-4]         |\n",
            "|Financial experts are advising on diversifying investment portfolios   |[-2.515805293417846E-4,0.0011835533562892426,-3.522937289138402E-4,8.590510309052963E-4,2.674472246629496E-7,7.330599279763798E-4,-0.0018802558576377728,0.0014333010573560991,-0.0016913714650096758,0.0020350822887849063,4.082887608092278E-4,-9.245289644847313E-4,-2.7492238829533255E-4,-0.0029441895409642407,0.002605655240283037,-5.975282062233115E-4,-7.416414979767675E-4,-9.212932006145517E-4,-0.0016748480678264361,-5.197800540675719E-4,-0.0022442404103154936,2.867820585379377E-4,-0.0012454970080095031,0.0033591107154885926,8.319590900403757E-5,-1.9765834440477192E-4,5.814597971038893E-4,0.001089370324431608,-0.0014869695684562125,0.001630335122172255,0.0011548380158880414,8.352096192538738E-4,-0.0020380550995469093,-5.392869497882202E-4,-7.850384329988931E-4,0.001909867530533423,7.250241239186531E-4,0.0011763200285107207,-9.596036494864771E-4,-0.0010227362896936634,0.0030305264129613834,-1.0373963353534539E-6,-1.1512328880295777E-4,0.0023666394675577367,-9.229623926027367E-4,0.0011830461153294891,-5.603815297945403E-4,-0.0015674199482115605,3.120106800148884E-4,-7.302354739901299E-4,-6.824826317218442E-4,7.041713203458736E-4,-1.9362968547890583E-4,0.00205483390406395,-3.1888706143945456E-4,0.0012967599274513,1.5738746393860006E-4,0.0016300505012623034,-3.256041430480157E-4,0.0014258208684623241,3.4595975497116643E-4,0.0010954056754902315,-5.6244268004472055E-5,7.507342379540205E-4,-3.7406770570669323E-4,-0.0012788833895077307,6.662535791595776E-4,1.7747361562214792E-4,-0.0020825088528605797,-0.0017515407040870437,-2.146839203002552E-5,-0.001656802482708978,-1.0028710433592399E-4,-5.016115513474991E-6,0.0014618368295487016,0.0013694317700962224,6.988210370764136E-4,-4.238399851601571E-4,-0.0016563290167444695,2.3700439487583935E-4,-0.002580924386469026,-2.1898335641405232E-5,7.419488004719217E-5,-4.726912205417951E-4,7.655494943416367E-4,6.168510881252587E-4,0.002262663086488222,0.0010137618519365788,-2.846865536412224E-4,-0.0014399429589199522,-9.702291184415419E-4,-0.00139698888718461,-0.0015517888775017732,-8.323060465045273E-4,7.442103378707543E-4,-0.0019937893985115807,2.488848986104131E-4,0.0017815062698597708,-0.0010500710632186383,-7.423371353070252E-4]       |\n",
            "|Stock trading has become a popular way to build wealth                 |[7.57897973796519E-4,0.0011801918735727668,2.3030641854607632E-4,0.0013746557274966367,-4.299508041835257E-5,0.001496202911117247,2.471859978478668E-4,0.0015058709853162456,-0.0016108085193471716,-0.0011785356826814156,2.870847737150533E-4,0.0012171153378273758,-7.674625085201114E-4,4.7749374893360904E-4,2.886527217924595E-4,-7.157099399981754E-4,-0.0015026534674689174,0.0027660698230777465,0.0028409001949642383,5.000183924234339E-4,3.662465938499996E-5,0.0010189572390767612,-2.3019386987601007E-4,-5.766025050044325E-4,0.0010333548000614557,-4.253553550889981E-4,-0.002801813750660845,0.0014733501843043734,-2.499109874146857E-4,0.0019981914166627185,-0.0021001591563357836,-0.0011829651978457279,-7.9560126843197E-4,-0.00262220053368115,-0.002123073793232574,-9.744960282530102E-6,8.220287605321833E-4,-1.4964939327910542E-4,0.0010121819962348256,0.0010311667241954378,-0.0015383083373308182,-4.6136416702730846E-4,-0.0012904299323314003,-0.0012065250684827333,-1.3104544320542897E-4,3.395486855879426E-4,-1.635486925286906E-4,5.905173197139187E-4,-3.172348868767066E-4,-0.0011718328460119665,-4.508895259017923E-4,-8.724707710955823E-4,1.9348201125727167E-4,0.0017297132497852933,0.0010756368449489984,7.618759820096394E-4,6.689670637050377E-4,-0.002224935750876154,0.0020689952486593805,-2.1905369274983447E-4,3.6243159723068984E-4,-7.9492263362876E-4,-9.45030603491302E-4,0.0025731557980179787,-2.913686948886607E-4,-6.613235288698759E-4,1.776251384788858E-4,0.0011650479957877125,7.556643353642097E-4,-5.68947425303382E-4,-0.001145427264938397,0.0018628338044176676,0.0016659609640815426,-2.1184354305400378E-4,-9.042102984884487E-4,0.001702699646037737,4.3080642353743315E-4,0.002684677352330514,5.411379637994936E-4,9.716076726493026E-4,-0.0013305690538670334,-3.340660935334329E-5,4.939849189083491E-4,4.6985813761628894E-4,0.0010842714026304226,2.1000544906460812E-4,4.8803907286907943E-4,-0.001492874530543174,-0.001451917050871998,-0.0025983044511771625,-0.0017405454512169983,0.0032214141766806798,-6.203606192554746E-4,1.1687725782394409E-4,1.560584725146847E-4,-2.70939473661461E-4,-6.072676707325237E-4,6.362645737161593E-4,5.012128562417014E-4,-0.0027319606659667833]                 |\n",
            "|Stock trading has become a popular way to build wealth                 |[7.57897973796519E-4,0.0011801918735727668,2.3030641854607632E-4,0.0013746557274966367,-4.299508041835257E-5,0.001496202911117247,2.471859978478668E-4,0.0015058709853162456,-0.0016108085193471716,-0.0011785356826814156,2.870847737150533E-4,0.0012171153378273758,-7.674625085201114E-4,4.7749374893360904E-4,2.886527217924595E-4,-7.157099399981754E-4,-0.0015026534674689174,0.0027660698230777465,0.0028409001949642383,5.000183924234339E-4,3.662465938499996E-5,0.0010189572390767612,-2.3019386987601007E-4,-5.766025050044325E-4,0.0010333548000614557,-4.253553550889981E-4,-0.002801813750660845,0.0014733501843043734,-2.499109874146857E-4,0.0019981914166627185,-0.0021001591563357836,-0.0011829651978457279,-7.9560126843197E-4,-0.00262220053368115,-0.002123073793232574,-9.744960282530102E-6,8.220287605321833E-4,-1.4964939327910542E-4,0.0010121819962348256,0.0010311667241954378,-0.0015383083373308182,-4.6136416702730846E-4,-0.0012904299323314003,-0.0012065250684827333,-1.3104544320542897E-4,3.395486855879426E-4,-1.635486925286906E-4,5.905173197139187E-4,-3.172348868767066E-4,-0.0011718328460119665,-4.508895259017923E-4,-8.724707710955823E-4,1.9348201125727167E-4,0.0017297132497852933,0.0010756368449489984,7.618759820096394E-4,6.689670637050377E-4,-0.002224935750876154,0.0020689952486593805,-2.1905369274983447E-4,3.6243159723068984E-4,-7.9492263362876E-4,-9.45030603491302E-4,0.0025731557980179787,-2.913686948886607E-4,-6.613235288698759E-4,1.776251384788858E-4,0.0011650479957877125,7.556643353642097E-4,-5.68947425303382E-4,-0.001145427264938397,0.0018628338044176676,0.0016659609640815426,-2.1184354305400378E-4,-9.042102984884487E-4,0.001702699646037737,4.3080642353743315E-4,0.002684677352330514,5.411379637994936E-4,9.716076726493026E-4,-0.0013305690538670334,-3.340660935334329E-5,4.939849189083491E-4,4.6985813761628894E-4,0.0010842714026304226,2.1000544906460812E-4,4.8803907286907943E-4,-0.001492874530543174,-0.001451917050871998,-0.0025983044511771625,-0.0017405454512169983,0.0032214141766806798,-6.203606192554746E-4,1.1687725782394409E-4,1.560584725146847E-4,-2.70939473661461E-4,-6.072676707325237E-4,6.362645737161593E-4,5.012128562417014E-4,-0.0027319606659667833]                 |\n",
            "+-----------------------------------------------------------------------+----------------------------------------------------------------------------------------------------------------------------------------------------------------------------------------------------------------------------------------------------------------------------------------------------------------------------------------------------------------------------------------------------------------------------------------------------------------------------------------------------------------------------------------------------------------------------------------------------------------------------------------------------------------------------------------------------------------------------------------------------------------------------------------------------------------------------------------------------------------------------------------------------------------------------------------------------------------------------------------------------------------------------------------------------------------------------------------------------------------------------------------------------------------------------------------------------------------------------------------------------------------------------------------------------------------------------------------------------------------------------------------------------------------------------------------------------------------------------------------------------------------------------------------------------------------------------------------------------------------------------------------------------------------------------------------------------------------------------------------------------------------------------------------------------------------------------------------------------------------------------------------------------------------------------------------------------------------------------------------------------------------------------------------------------------------------------------------------------------------------------------------------------------------------------------------------------------------------------------------------------------------------------------------------+\n",
            "only showing top 20 rows\n",
            "\n"
          ]
        }
      ]
    },
    {
      "cell_type": "code",
      "source": [
        "#Step 7: Train & Evaluate Logistic Regression Classifier on Word2Vec Features"
      ],
      "metadata": {
        "id": "ebx4TFjO6Fw8"
      },
      "execution_count": 13,
      "outputs": []
    },
    {
      "cell_type": "code",
      "source": [
        "# Split Data\n",
        "train_data_w2v, test_data_w2v = df.randomSplit([0.8, 0.2], seed=42)\n",
        "\n",
        "# Train Model\n",
        "lr_w2v = LogisticRegression(featuresCol=\"featuresW2Vector\", labelCol=\"label\")\n",
        "lr_w2v_model = lr_w2v.fit(train_data_w2v)\n",
        "\n",
        "# Predictions\n",
        "predictions_w2v = lr_w2v_model.transform(test_data_w2v)\n",
        "predictions_w2v.select(\"text\", \"category\", \"prediction\").show(truncate=False)\n",
        "\n",
        "# Evaluate Model Accuracy\n",
        "accuracy_w2v = evaluator.evaluate(predictions_w2v)\n",
        "print(f\"Word2Vec Model Accuracy: {accuracy_w2v:.2f}\")"
      ],
      "metadata": {
        "colab": {
          "base_uri": "https://localhost:8080/"
        },
        "id": "1vH6_2ow6LkF",
        "outputId": "51815c09-063b-4cf4-84db-28f40326c595"
      },
      "execution_count": 14,
      "outputs": [
        {
          "output_type": "stream",
          "name": "stdout",
          "text": [
            "+--------------------------------------------------------------------+----------+----------+\n",
            "|text                                                                |category  |prediction|\n",
            "+--------------------------------------------------------------------+----------+----------+\n",
            "|Machine learning has revolutionized the way data is processed       |Technology|1.0       |\n",
            "|The president addressed the nation in a live broadcast              |Politics  |2.0       |\n",
            "|Machine learning has revolutionized the way data is processed       |Technology|1.0       |\n",
            "|Investors are looking for high-yield bonds in the current market    |Finance   |2.0       |\n",
            "|Cloud computing is becoming increasingly important for businesses   |Technology|1.0       |\n",
            "|International relations are being discussed in diplomatic meetings  |Politics  |3.0       |\n",
            "|The Formula 1 race track is set to host the next grand prix         |Sports    |0.0       |\n",
            "|Financial experts are advising on diversifying investment portfolios|Finance   |2.0       |\n",
            "+--------------------------------------------------------------------+----------+----------+\n",
            "\n",
            "Word2Vec Model Accuracy: 0.88\n"
          ]
        }
      ]
    }
  ]
}